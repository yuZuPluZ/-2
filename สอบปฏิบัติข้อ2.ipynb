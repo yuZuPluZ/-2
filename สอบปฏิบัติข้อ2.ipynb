{
  "nbformat": 4,
  "nbformat_minor": 0,
  "metadata": {
    "colab": {
      "provenance": [],
      "authorship_tag": "ABX9TyNf6LiqeWuL39jLCUwGiVTu",
      "include_colab_link": true
    },
    "kernelspec": {
      "name": "python3",
      "display_name": "Python 3"
    },
    "language_info": {
      "name": "python"
    }
  },
  "cells": [
    {
      "cell_type": "markdown",
      "metadata": {
        "id": "view-in-github",
        "colab_type": "text"
      },
      "source": [
        "<a href=\"https://colab.research.google.com/github/yuZuPluZ/-2/blob/main/%E0%B8%AA%E0%B8%AD%E0%B8%9A%E0%B8%9B%E0%B8%8F%E0%B8%B4%E0%B8%9A%E0%B8%B1%E0%B8%95%E0%B8%B4%E0%B8%82%E0%B9%89%E0%B8%AD2.ipynb\" target=\"_parent\"><img src=\"https://colab.research.google.com/assets/colab-badge.svg\" alt=\"Open In Colab\"/></a>"
      ]
    },
    {
      "cell_type": "markdown",
      "source": [],
      "metadata": {
        "id": "Uol7F6HoIyHD"
      }
    },
    {
      "cell_type": "markdown",
      "source": [
        "รหัสนักศึกษา : 67015052 ชื่อ ธนพนธ์ ภูพานทอง :\n",
        "\n"
      ],
      "metadata": {
        "id": "dX1mZVsEI8YO"
      }
    },
    {
      "cell_type": "code",
      "execution_count": null,
      "metadata": {
        "colab": {
          "base_uri": "https://localhost:8080/"
        },
        "id": "P1FbcEFAHuly",
        "outputId": "ae6d786b-351e-4f28-fb01-7c66a00834ed"
      },
      "outputs": [
        {
          "output_type": "stream",
          "name": "stdout",
          "text": [
            "Enter a number: 100\n",
            "4\n"
          ]
        }
      ],
      "source": [
        "def find_Prime_factors(n):\n",
        "    prime_factors = []\n",
        "    d = 2\n",
        "    while n > 1:\n",
        "        if n % d == 0:\n",
        "            prime_factors.append(d)\n",
        "            n /= d\n",
        "        else:\n",
        "            d += 1\n",
        "    return prime_factors\n",
        "\n",
        "def sum_of_Prime_factors(n):\n",
        "    prime_factors = find_Prime_factors(n)\n",
        "    return sum(prime_factors)\n",
        "\n",
        "def is_prime(n):\n",
        "    if n <= 1:\n",
        "        return False\n",
        "    for i in range(2, int(n**0.5) + 1):\n",
        "        if n % i == 0:\n",
        "            return False\n",
        "    return True\n",
        "\n",
        "n = int(input(\"Enter a number: \"))\n",
        "\n",
        "x = sum_of_Prime_factors(n)\n",
        "c = 1\n",
        "\n",
        "while not is_prime(x):\n",
        "    c = c+1\n",
        "    x = sum_of_Prime_factors(x)\n",
        "\n",
        "print(c)\n"
      ]
    }
  ]
}