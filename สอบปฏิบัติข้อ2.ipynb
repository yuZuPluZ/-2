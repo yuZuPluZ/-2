{
  "nbformat": 4,
  "nbformat_minor": 0,
  "metadata": {
    "colab": {
      "provenance": [],
      "authorship_tag": "ABX9TyPsyJaUcdJT6l1in/wv8FnN",
      "include_colab_link": true
    },
    "kernelspec": {
      "name": "python3",
      "display_name": "Python 3"
    },
    "language_info": {
      "name": "python"
    }
  },
  "cells": [
    {
      "cell_type": "markdown",
      "metadata": {
        "id": "view-in-github",
        "colab_type": "text"
      },
      "source": [
        "<a href=\"https://colab.research.google.com/github/yuZuPluZ/-2/blob/main/%E0%B8%AA%E0%B8%AD%E0%B8%9A%E0%B8%9B%E0%B8%8F%E0%B8%B4%E0%B8%9A%E0%B8%B1%E0%B8%95%E0%B8%B4%E0%B8%82%E0%B9%89%E0%B8%AD2.ipynb\" target=\"_parent\"><img src=\"https://colab.research.google.com/assets/colab-badge.svg\" alt=\"Open In Colab\"/></a>"
      ]
    },
    {
      "cell_type": "markdown",
      "source": [],
      "metadata": {
        "id": "Uol7F6HoIyHD"
      }
    },
    {
      "cell_type": "markdown",
      "source": [
        "รหัสนักศึกษา : 67015052 ชื่อ ธนพนธ์ ภูพานทอง :\n",
        "\n"
      ],
      "metadata": {
        "id": "dX1mZVsEI8YO"
      }
    },
    {
      "cell_type": "code",
      "execution_count": 1,
      "metadata": {
        "colab": {
          "base_uri": "https://localhost:8080/"
        },
        "id": "P1FbcEFAHuly",
        "outputId": "43394337-60cf-4354-c7c0-9429a2779cf3"
      },
      "outputs": [
        {
          "output_type": "stream",
          "name": "stdout",
          "text": [
            "3\n",
            "3\n",
            "1\n",
            "1\n",
            "3\n",
            "1\n"
          ]
        }
      ],
      "source": [
        "def Find_the_minimum_number_of_train_platforms_required(lst_of_arrivals, lst_of_departs):\n",
        "\n",
        "    lst_of_arrivals.sort()\n",
        "    lst_of_departs.sort()\n",
        "\n",
        "    i = 0\n",
        "    j = 0\n",
        "    count = 0\n",
        "    count_max = 0\n",
        "    while i < len(lst_of_arrivals) and j < len(lst_of_departs):\n",
        "        if lst_of_arrivals[i] < lst_of_departs[j]:\n",
        "            count += 1\n",
        "            i += 1\n",
        "        elif lst_of_arrivals[i] >= lst_of_departs[j]:\n",
        "            count -= 1\n",
        "            j += 1\n",
        "\n",
        "        if count > count_max:\n",
        "            count_max = count\n",
        "    return count_max\n",
        "print(Find_the_minimum_number_of_train_platforms_required([900,940,950,1100,1500,1800], [910,1200,1120,1130,1900,2000,]))\n",
        "print(Find_the_minimum_number_of_train_platforms_required([900,900,900], [1000,1000,1000]))\n",
        "print(Find_the_minimum_number_of_train_platforms_required([900,1000,1100], [950,1050,1150]))\n",
        "print(Find_the_minimum_number_of_train_platforms_required([900], [1000]))\n",
        "print(Find_the_minimum_number_of_train_platforms_required([900,910,920], [930,940,950]))\n",
        "print(Find_the_minimum_number_of_train_platforms_required([900,1000], [1000,1100]))"
      ]
    }
  ]
}